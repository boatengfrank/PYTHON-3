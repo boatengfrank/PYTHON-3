{
 "cells": [
  {
   "cell_type": "markdown",
   "id": "a5f99459",
   "metadata": {},
   "source": [
    "# This script contains the following:\n",
    "1. Importing Visualization Libraries and Data¶\n",
    "2. Exploring Relationships\n",
    " Correlations\n",
    " Scatterplots\n",
    " Pair Plots\n",
    " Categorical Plots"
   ]
  },
  {
   "cell_type": "markdown",
   "id": "527c49bc",
   "metadata": {},
   "source": [
    "## 1. Importing Visualization Libraries and Data"
   ]
  },
  {
   "cell_type": "code",
   "execution_count": null,
   "id": "d38fbd3d",
   "metadata": {},
   "outputs": [],
   "source": [
    "import pandas as pd\n",
    "import numpy as np\n",
    "import seaborn as sns\n",
    "import matplotlib.pyplot as plt\n",
    "import matplotlib\n",
    "import os"
   ]
  },
  {
   "cell_type": "code",
   "execution_count": null,
   "id": "d984e58a",
   "metadata": {},
   "outputs": [],
   "source": [
    "# This option ensures the charts you create are displayed in the notebook without the need to \"call\" them specifically.\n",
    "\n",
    "%matplotlib inline"
   ]
  },
  {
   "cell_type": "code",
   "execution_count": null,
   "id": "ea3e2ce1",
   "metadata": {},
   "outputs": [],
   "source": [
    "#Defining path\n",
    "path=r'/Users/frankamoboateng/Downloads/19.08.23 World University Rankings'"
   ]
  },
  {
   "cell_type": "code",
   "execution_count": null,
   "id": "0a991246",
   "metadata": {},
   "outputs": [],
   "source": [
    "#importing data\n",
    "df_uni = pd.read_csv(os.path.join(path,'02. DATA','PREPARED DATA','uni_ranks.csv'), index_col = False)"
   ]
  },
  {
   "cell_type": "markdown",
   "id": "020f5dd1",
   "metadata": {},
   "source": [
    "## 2. EXPLORING RELATIONSHIPS"
   ]
  },
  {
   "cell_type": "code",
   "execution_count": null,
   "id": "c2799177",
   "metadata": {},
   "outputs": [],
   "source": [
    "df_uni.head()"
   ]
  },
  {
   "cell_type": "code",
   "execution_count": null,
   "id": "d9bf1fee",
   "metadata": {},
   "outputs": [],
   "source": [
    "df_uni.shape"
   ]
  },
  {
   "cell_type": "markdown",
   "id": "22720958",
   "metadata": {},
   "source": [
    "## Correlations:"
   ]
  },
  {
   "cell_type": "code",
   "execution_count": null,
   "id": "11439d17",
   "metadata": {},
   "outputs": [],
   "source": [
    "# Create a correlation matrix using pandas\n",
    "\n",
    "df_uni.corr()"
   ]
  },
  {
   "cell_type": "markdown",
   "id": "79095fba",
   "metadata": {},
   "source": [
    "## The warning is as a result of the object data type in our data set"
   ]
  },
  {
   "cell_type": "code",
   "execution_count": null,
   "id": "5425731c",
   "metadata": {},
   "outputs": [],
   "source": [
    "# Create a correlation heatmap using matplotlib\n",
    "\n",
    "plt.matshow(df_uni.corr())\n",
    "plt.show()"
   ]
  },
  {
   "cell_type": "code",
   "execution_count": null,
   "id": "01a78bbb",
   "metadata": {},
   "outputs": [],
   "source": [
    "# Save figure\n",
    "plt.matshow(df_uni.corr())\n",
    "plt.savefig(\"out.png\") "
   ]
  },
  {
   "cell_type": "code",
   "execution_count": null,
   "id": "87fea5b0",
   "metadata": {},
   "outputs": [],
   "source": [
    "#current directory\n",
    "cwd = os.getcwd()\n",
    "cwd"
   ]
  },
  {
   "cell_type": "code",
   "execution_count": null,
   "id": "d186a9e7",
   "metadata": {},
   "outputs": [],
   "source": [
    "# Add labels, a legend, and change the size of the heatmap\n",
    "\n",
    "f = plt.figure(figsize=(8, 8)) # figure size \n",
    "plt.matshow(df_uni.corr(), fignum=f.number) # type of plot\n",
    "plt.xticks(range(df_uni.shape[1]), df_uni.columns, fontsize=14, rotation=45) # x axis labels\n",
    "plt.yticks(range(df_uni.shape[1]), df_uni.columns, fontsize=14) # y axis labels\n",
    "cb = plt.colorbar() # add a colour legend (called colorbar)\n",
    "cb.ax.tick_params(labelsize=11) # add font size\n",
    "plt.title('Correlation Matrix', fontsize=8) # add title"
   ]
  },
  {
   "cell_type": "markdown",
   "id": "481a11bb",
   "metadata": {},
   "source": [
    "## Create a correlation heatmap using seaborn:"
   ]
  },
  {
   "cell_type": "code",
   "execution_count": null,
   "id": "152dcf07",
   "metadata": {},
   "outputs": [],
   "source": [
    "df_uni.columns"
   ]
  },
  {
   "cell_type": "code",
   "execution_count": null,
   "id": "50765868",
   "metadata": {},
   "outputs": [],
   "source": [
    "# Create a subset excluding the \"Unnamed:0\", \"Country\" \"year\"\n",
    "\n",
    "sub = df_uni[['world_rank', 'national_rank', 'quality_of_education','alumni_employment', \n",
    "              'quality_of_faculty', 'publications', 'influence', 'citations', 'broad_impact', 'patents', 'score']]"
   ]
  },
  {
   "cell_type": "code",
   "execution_count": null,
   "id": "54f348c3",
   "metadata": {},
   "outputs": [],
   "source": [
    "sub"
   ]
  },
  {
   "cell_type": "code",
   "execution_count": null,
   "id": "4778a79b",
   "metadata": {},
   "outputs": [],
   "source": [
    "# Create a subplot with matplotlib\n",
    "f,ax = plt.subplots(figsize=(10,10))\n",
    "\n",
    "# Create the correlation heatmap in seaborn by applying a heatmap onto the correlation matrix and the subplots defined above.\n",
    "corr = sns.heatmap(sub.corr(), annot = True, ax = ax) # The `annot` argument allows the plot to \n",
    "#place the correlation coefficients onto the heatmap."
   ]
  },
  {
   "cell_type": "markdown",
   "id": "2b0aff08",
   "metadata": {},
   "source": [
    "## We see a positive correlation between the world rank and all the variables with variables such as broad impact and publications enjoying a strong influence to the world rank and the national rank having a weak correlation. This is somewhat true as, the rank of a university locally would not necessary impact its global impact. "
   ]
  },
  {
   "cell_type": "markdown",
   "id": "01361ef5",
   "metadata": {},
   "source": [
    "## Scatterplots:\n",
    "## The relationship between quality of faculty and the world rank is further investigated due to its value of 0.57 being the least among the top values the other variables produced. "
   ]
  },
  {
   "cell_type": "code",
   "execution_count": null,
   "id": "f3817920",
   "metadata": {},
   "outputs": [],
   "source": [
    "corr"
   ]
  },
  {
   "cell_type": "code",
   "execution_count": null,
   "id": "581675d3",
   "metadata": {},
   "outputs": [],
   "source": []
  },
  {
   "cell_type": "code",
   "execution_count": null,
   "id": "91477dec",
   "metadata": {},
   "outputs": [],
   "source": []
  },
  {
   "cell_type": "code",
   "execution_count": null,
   "id": "c412789f",
   "metadata": {},
   "outputs": [],
   "source": [
    "corr.figure.savefig(os.path.join(path, '04.ANALYSIS','VISUALIZATIONS', \n",
    "                                                       'corr.png'))"
   ]
  },
  {
   "cell_type": "code",
   "execution_count": null,
   "id": "db5a54e5",
   "metadata": {},
   "outputs": [],
   "source": []
  },
  {
   "cell_type": "code",
   "execution_count": null,
   "id": "8a90c5ed",
   "metadata": {},
   "outputs": [],
   "source": []
  },
  {
   "cell_type": "code",
   "execution_count": null,
   "id": "d5de525a",
   "metadata": {},
   "outputs": [],
   "source": []
  },
  {
   "cell_type": "code",
   "execution_count": null,
   "id": "26cac1d6",
   "metadata": {},
   "outputs": [],
   "source": [
    "# Create a scatterplot for the \"world_rank\" and \"quality of faculty\" columns in seaborn\n",
    "\n",
    "sns.lmplot(x = 'quality_of_faculty', y = 'world_rank', data = sub)"
   ]
  },
  {
   "cell_type": "markdown",
   "id": "21cb50e0",
   "metadata": {},
   "source": [
    "## This plot shows a somewhat positive correlation between the two variables"
   ]
  },
  {
   "cell_type": "markdown",
   "id": "4e2d898e",
   "metadata": {},
   "source": [
    "## Pair Plots:"
   ]
  },
  {
   "cell_type": "code",
   "execution_count": null,
   "id": "b5f471cd",
   "metadata": {},
   "outputs": [],
   "source": [
    "# only the variables to be used in the pair plot are kept\n",
    "\n",
    "sub_2 = sub[['world_rank', 'publications', 'patents', 'quality_of_education']]"
   ]
  },
  {
   "cell_type": "code",
   "execution_count": null,
   "id": "d528577c",
   "metadata": {},
   "outputs": [],
   "source": [
    "# Create a pair plot \n",
    "\n",
    "g = sns.pairplot(sub_2)"
   ]
  },
  {
   "cell_type": "markdown",
   "id": "c2a74da9",
   "metadata": {},
   "source": [
    "## this pair plot between the variables further affirms their relationship. A closer look at the world rank and the publications, patents, and quality of education all show a very positive correlation. "
   ]
  },
  {
   "cell_type": "markdown",
   "id": "2e5a09d6",
   "metadata": {},
   "source": [
    "## Categorical Plots:\n",
    "\n",
    "\n",
    "\n",
    "## Creating a categorical variable that splits the \"patents\" column into categories"
   ]
  },
  {
   "cell_type": "code",
   "execution_count": null,
   "id": "0b515e7b",
   "metadata": {},
   "outputs": [],
   "source": [
    "g.figure.savefig(os.path.join(path, '04.ANALYSIS','VISUALIZATIONS', \n",
    "                                                       'g.png'))"
   ]
  },
  {
   "cell_type": "code",
   "execution_count": null,
   "id": "dce70a4b",
   "metadata": {},
   "outputs": [],
   "source": []
  },
  {
   "cell_type": "code",
   "execution_count": null,
   "id": "f37bbbda",
   "metadata": {},
   "outputs": [],
   "source": [
    "sns.histplot(df_uni['patents'], bins = 20, kde = True)"
   ]
  },
  {
   "cell_type": "code",
   "execution_count": null,
   "id": "c931a54d",
   "metadata": {},
   "outputs": [],
   "source": [
    "df_uni.loc[df_uni['patents'] < 300, 'Patent category'] = 'Low patents'"
   ]
  },
  {
   "cell_type": "code",
   "execution_count": null,
   "id": "a84f1d01",
   "metadata": {},
   "outputs": [],
   "source": [
    "df_uni.loc[(df_uni['patents'] >= 300) & (df_uni['patents'] < 500), 'Patent category'] = 'Middle patents'"
   ]
  },
  {
   "cell_type": "code",
   "execution_count": null,
   "id": "14e216ef",
   "metadata": {},
   "outputs": [],
   "source": [
    "df_uni.loc[df_uni['patents'] >= 500, 'Patent category'] = 'High patent'"
   ]
  },
  {
   "cell_type": "code",
   "execution_count": null,
   "id": "16d3150b",
   "metadata": {},
   "outputs": [],
   "source": [
    "df_uni['Patent category'].value_counts(dropna = False)"
   ]
  },
  {
   "cell_type": "code",
   "execution_count": null,
   "id": "d240a69f",
   "metadata": {},
   "outputs": [],
   "source": [
    "df_uni.columns"
   ]
  },
  {
   "cell_type": "code",
   "execution_count": null,
   "id": "00dc2feb",
   "metadata": {},
   "outputs": [],
   "source": [
    "# Create a categorical plot in seaborn using the patent categories created above\n",
    "\n",
    "sns.set(style=\"ticks\")\n",
    "g = sns.catplot(x=\"world_rank\", y=\"patents\", hue=\"Patent category\", data=df_uni)"
   ]
  },
  {
   "cell_type": "markdown",
   "id": "7815b837",
   "metadata": {},
   "source": [
    "## From the chart above we can infer a positive correlation between the world ranking of the universities and the number of patents the universities have. "
   ]
  },
  {
   "cell_type": "code",
   "execution_count": null,
   "id": "a2af1397",
   "metadata": {},
   "outputs": [],
   "source": [
    "# fig = g.get_figure()\n",
    "g.savefig(\"out.png\") \n",
    "\n",
    "# Again, the image will be saved in the working directory. "
   ]
  },
  {
   "cell_type": "code",
   "execution_count": null,
   "id": "ff5a8009",
   "metadata": {},
   "outputs": [],
   "source": []
  },
  {
   "cell_type": "code",
   "execution_count": null,
   "id": "f0191075",
   "metadata": {},
   "outputs": [],
   "source": []
  },
  {
   "cell_type": "code",
   "execution_count": null,
   "id": "a5161cb6",
   "metadata": {},
   "outputs": [],
   "source": []
  },
  {
   "cell_type": "code",
   "execution_count": null,
   "id": "a77efecc",
   "metadata": {},
   "outputs": [],
   "source": []
  },
  {
   "cell_type": "code",
   "execution_count": null,
   "id": "9ad408b2",
   "metadata": {},
   "outputs": [],
   "source": []
  },
  {
   "cell_type": "code",
   "execution_count": null,
   "id": "1a74de07",
   "metadata": {},
   "outputs": [],
   "source": []
  },
  {
   "cell_type": "code",
   "execution_count": null,
   "id": "abd12c4d",
   "metadata": {},
   "outputs": [],
   "source": []
  },
  {
   "cell_type": "code",
   "execution_count": null,
   "id": "4fc4894a",
   "metadata": {},
   "outputs": [],
   "source": []
  },
  {
   "cell_type": "code",
   "execution_count": null,
   "id": "0b7e80bc",
   "metadata": {},
   "outputs": [],
   "source": []
  },
  {
   "cell_type": "code",
   "execution_count": null,
   "id": "58a03bf2",
   "metadata": {},
   "outputs": [],
   "source": []
  },
  {
   "cell_type": "code",
   "execution_count": null,
   "id": "ef61d0e8",
   "metadata": {},
   "outputs": [],
   "source": []
  },
  {
   "cell_type": "code",
   "execution_count": null,
   "id": "b705a1a4",
   "metadata": {},
   "outputs": [],
   "source": []
  },
  {
   "cell_type": "code",
   "execution_count": null,
   "id": "01e9e007",
   "metadata": {},
   "outputs": [],
   "source": []
  },
  {
   "cell_type": "code",
   "execution_count": null,
   "id": "8b0410b6",
   "metadata": {},
   "outputs": [],
   "source": []
  },
  {
   "cell_type": "code",
   "execution_count": null,
   "id": "6cae526c",
   "metadata": {},
   "outputs": [],
   "source": []
  },
  {
   "cell_type": "code",
   "execution_count": null,
   "id": "b6d1696d",
   "metadata": {},
   "outputs": [],
   "source": []
  },
  {
   "cell_type": "code",
   "execution_count": null,
   "id": "2cfa4341",
   "metadata": {},
   "outputs": [],
   "source": []
  },
  {
   "cell_type": "code",
   "execution_count": null,
   "id": "3a45a5dd",
   "metadata": {},
   "outputs": [],
   "source": []
  },
  {
   "cell_type": "code",
   "execution_count": null,
   "id": "7b114a08",
   "metadata": {},
   "outputs": [],
   "source": []
  },
  {
   "cell_type": "code",
   "execution_count": null,
   "id": "e3125fb5",
   "metadata": {},
   "outputs": [],
   "source": []
  },
  {
   "cell_type": "code",
   "execution_count": null,
   "id": "5fbf7f66",
   "metadata": {},
   "outputs": [],
   "source": []
  },
  {
   "cell_type": "code",
   "execution_count": null,
   "id": "443c792d",
   "metadata": {},
   "outputs": [],
   "source": []
  },
  {
   "cell_type": "code",
   "execution_count": null,
   "id": "b66094fb",
   "metadata": {},
   "outputs": [],
   "source": []
  },
  {
   "cell_type": "code",
   "execution_count": null,
   "id": "538c78e6",
   "metadata": {},
   "outputs": [],
   "source": []
  },
  {
   "cell_type": "code",
   "execution_count": null,
   "id": "1a8c2275",
   "metadata": {},
   "outputs": [],
   "source": []
  },
  {
   "cell_type": "code",
   "execution_count": null,
   "id": "064ce980",
   "metadata": {},
   "outputs": [],
   "source": []
  },
  {
   "cell_type": "code",
   "execution_count": null,
   "id": "b5058aa5",
   "metadata": {},
   "outputs": [],
   "source": []
  },
  {
   "cell_type": "code",
   "execution_count": null,
   "id": "9a23ce4e",
   "metadata": {},
   "outputs": [],
   "source": []
  },
  {
   "cell_type": "code",
   "execution_count": null,
   "id": "2440d820",
   "metadata": {},
   "outputs": [],
   "source": []
  },
  {
   "cell_type": "code",
   "execution_count": null,
   "id": "a23646a2",
   "metadata": {},
   "outputs": [],
   "source": []
  },
  {
   "cell_type": "code",
   "execution_count": null,
   "id": "88412c9e",
   "metadata": {},
   "outputs": [],
   "source": []
  },
  {
   "cell_type": "code",
   "execution_count": null,
   "id": "94be1ef2",
   "metadata": {},
   "outputs": [],
   "source": []
  },
  {
   "cell_type": "code",
   "execution_count": null,
   "id": "0b6bbf1e",
   "metadata": {},
   "outputs": [],
   "source": []
  },
  {
   "cell_type": "code",
   "execution_count": null,
   "id": "7e70a8b9",
   "metadata": {},
   "outputs": [],
   "source": []
  },
  {
   "cell_type": "code",
   "execution_count": null,
   "id": "51e6409f",
   "metadata": {},
   "outputs": [],
   "source": []
  },
  {
   "cell_type": "code",
   "execution_count": null,
   "id": "484b3b71",
   "metadata": {},
   "outputs": [],
   "source": []
  },
  {
   "cell_type": "code",
   "execution_count": null,
   "id": "1fc56a7a",
   "metadata": {},
   "outputs": [],
   "source": []
  },
  {
   "cell_type": "code",
   "execution_count": null,
   "id": "6779610d",
   "metadata": {},
   "outputs": [],
   "source": []
  },
  {
   "cell_type": "code",
   "execution_count": null,
   "id": "235cfee1",
   "metadata": {},
   "outputs": [],
   "source": []
  },
  {
   "cell_type": "code",
   "execution_count": null,
   "id": "378e799a",
   "metadata": {},
   "outputs": [],
   "source": []
  },
  {
   "cell_type": "code",
   "execution_count": null,
   "id": "6698f7d4",
   "metadata": {},
   "outputs": [],
   "source": []
  },
  {
   "cell_type": "code",
   "execution_count": null,
   "id": "c5bc8660",
   "metadata": {},
   "outputs": [],
   "source": []
  },
  {
   "cell_type": "code",
   "execution_count": null,
   "id": "bbc0db34",
   "metadata": {},
   "outputs": [],
   "source": []
  },
  {
   "cell_type": "code",
   "execution_count": null,
   "id": "300146e1",
   "metadata": {},
   "outputs": [],
   "source": []
  },
  {
   "cell_type": "code",
   "execution_count": null,
   "id": "8168f43e",
   "metadata": {},
   "outputs": [],
   "source": []
  },
  {
   "cell_type": "code",
   "execution_count": null,
   "id": "c9e068ad",
   "metadata": {},
   "outputs": [],
   "source": []
  },
  {
   "cell_type": "code",
   "execution_count": null,
   "id": "614ed193",
   "metadata": {},
   "outputs": [],
   "source": []
  },
  {
   "cell_type": "code",
   "execution_count": null,
   "id": "efdd76e9",
   "metadata": {},
   "outputs": [],
   "source": []
  },
  {
   "cell_type": "code",
   "execution_count": null,
   "id": "8f08fbf1",
   "metadata": {},
   "outputs": [],
   "source": []
  },
  {
   "cell_type": "code",
   "execution_count": null,
   "id": "2991968c",
   "metadata": {},
   "outputs": [],
   "source": []
  }
 ],
 "metadata": {
  "kernelspec": {
   "display_name": "Python 3 (ipykernel)",
   "language": "python",
   "name": "python3"
  },
  "language_info": {
   "codemirror_mode": {
    "name": "ipython",
    "version": 3
   },
   "file_extension": ".py",
   "mimetype": "text/x-python",
   "name": "python",
   "nbconvert_exporter": "python",
   "pygments_lexer": "ipython3",
   "version": "3.11.3"
  }
 },
 "nbformat": 4,
 "nbformat_minor": 5
}
